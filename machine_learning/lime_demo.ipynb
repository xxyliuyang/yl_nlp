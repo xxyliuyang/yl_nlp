{
 "cells": [
  {
   "cell_type": "code",
   "execution_count": 1,
   "metadata": {},
   "outputs": [
    {
     "name": "stderr",
     "output_type": "stream",
     "text": [
      "/opt/anaconda3/lib/python3.7/site-packages/sklearn/ensemble/forest.py:245: FutureWarning: The default value of n_estimators will change from 10 in version 0.20 to 100 in 0.22.\n",
      "  \"10 in version 0.20 to 100 in 0.22.\", FutureWarning)\n"
     ]
    },
    {
     "data": {
      "text/plain": [
       "RandomForestRegressor(bootstrap=True, criterion='mse', max_depth=None,\n",
       "                      max_features='auto', max_leaf_nodes=None,\n",
       "                      min_impurity_decrease=0.0, min_impurity_split=None,\n",
       "                      min_samples_leaf=1, min_samples_split=2,\n",
       "                      min_weight_fraction_leaf=0.0, n_estimators=10,\n",
       "                      n_jobs=None, oob_score=False, random_state=None,\n",
       "                      verbose=0, warm_start=False)"
      ]
     },
     "execution_count": 1,
     "metadata": {},
     "output_type": "execute_result"
    }
   ],
   "source": [
    "from sklearn import datasets, ensemble, model_selection\n",
    "\n",
    "boston = datasets.load_boston()\n",
    "X_train, X_test, y_train, y_test = model_selection.train_test_split(\n",
    "    boston.data, boston.target)\n",
    "\n",
    "regressor = ensemble.RandomForestRegressor()\n",
    "regressor.fit(X_train, y_train)"
   ]
  },
  {
   "cell_type": "code",
   "execution_count": 12,
   "metadata": {},
   "outputs": [
    {
     "data": {
      "text/plain": [
       "array([19.1, 15.1, 23.7, 15.3, 23.7, 32. , 34.7, 19.1, 19.8, 23.8, 15.6,\n",
       "       27.5, 16.5,  5.6, 24.4, 29.1, 10.4, 24.1, 22. , 19.2, 22.5, 20.1,\n",
       "       20.8, 21.7, 13.1, 14.5, 24.4, 19.8, 20.6, 29.9, 21.9, 22.1, 17.4,\n",
       "        7. , 21.7, 18.1, 24.2, 16.4, 17.4, 21.7, 24. , 23.9, 14.1, 19.5,\n",
       "       33.1, 14.1, 19.4, 19.9, 20.3, 19.4, 24.3, 10.5, 19.1, 12.8, 24.5,\n",
       "       19.4, 22.9, 33.2, 20. , 36.5, 21.7,  7.5, 21.8, 23.9, 24.1, 23.7,\n",
       "       17.2, 28.1, 19.4, 16.6, 20. , 20.9, 22. , 28.2, 50. , 17.5, 27.9,\n",
       "       18.4, 21. , 35.4, 33.1, 19.6, 29.8, 31.7, 20.6, 19.6, 22. , 20.6,\n",
       "       19.3, 22.8, 15.6, 22.8, 35.4, 35.1, 28.4, 11.3, 22.7, 27.1, 12.1,\n",
       "       23.1, 23.3, 11.7, 22.6, 10.9, 38.7, 16.7, 25.1, 36.2,  7.2, 23.4,\n",
       "       28.7, 33.4, 29.1, 12.5, 13. , 46. , 23. , 32.2, 14.1, 24.4, 41.7,\n",
       "       21.8, 22.4, 19.9, 24.5, 19.6, 19.7])"
      ]
     },
     "execution_count": 12,
     "metadata": {},
     "output_type": "execute_result"
    }
   ],
   "source": [
    "y_test"
   ]
  },
  {
   "cell_type": "code",
   "execution_count": 5,
   "metadata": {},
   "outputs": [],
   "source": [
    "import numpy as np\n",
    "categorical_features = [i for i, col in enumerate(boston.data.T)\n",
    "                        if np.unique(col).size < 10]"
   ]
  },
  {
   "cell_type": "code",
   "execution_count": 14,
   "metadata": {},
   "outputs": [
    {
     "data": {
      "text/plain": [
       "array(['CRIM', 'ZN', 'INDUS', 'CHAS', 'NOX', 'RM', 'AGE', 'DIS', 'RAD',\n",
       "       'TAX', 'PTRATIO', 'B', 'LSTAT'], dtype='<U7')"
      ]
     },
     "execution_count": 14,
     "metadata": {},
     "output_type": "execute_result"
    }
   ],
   "source": [
    "boston.feature_names"
   ]
  },
  {
   "cell_type": "code",
   "execution_count": 15,
   "metadata": {},
   "outputs": [
    {
     "data": {
      "text/plain": [
       "array([  6.96215,   0.     ,  18.1    ,   0.     ,   0.7    ,   5.713  ,\n",
       "        97.     ,   1.9265 ,  24.     , 666.     ,  20.2    , 394.43   ,\n",
       "        17.11   ])"
      ]
     },
     "execution_count": 15,
     "metadata": {},
     "output_type": "execute_result"
    }
   ],
   "source": [
    "X_test[1]"
   ]
  },
  {
   "cell_type": "code",
   "execution_count": 16,
   "metadata": {},
   "outputs": [
    {
     "data": {
      "image/png": "[encoded data removed]",
      "text/plain": [
       "<Figure size 432x288 with 1 Axes>"
      ]
     },
     "metadata": {
      "needs_background": "light"
     },
     "output_type": "display_data"
    }
   ],
   "source": [
    "from lime.lime_tabular import LimeTabularExplainer\n",
    "explainer = LimeTabularExplainer(X_train,\n",
    "    feature_names=boston.feature_names,\n",
    "    class_names=['price'],\n",
    "    categorical_features=categorical_features,\n",
    "    mode='regression')\n",
    "\n",
    "# Now explain a prediction\n",
    "exp = explainer.explain_instance(X_test[5], regressor.predict,\n",
    "        num_features=10)\n",
    "\n",
    "exp.as_pyplot_figure()\n",
    "from matplotlib import pyplot as plt\n",
    "plt.tight_layout()"
   ]
  },
  {
   "cell_type": "code",
   "execution_count": null,
   "metadata": {},
   "outputs": [],
   "source": []
  },
  {
   "cell_type": "code",
   "execution_count": null,
   "metadata": {},
   "outputs": [],
   "source": []
  }
 ],
 "metadata": {
  "kernelspec": {
   "display_name": "Python 3",
   "language": "python",
   "name": "python3"
  },
  "language_info": {
   "codemirror_mode": {
    "name": "ipython",
    "version": 3
   },
   "file_extension": ".py",
   "mimetype": "text/x-python",
   "name": "python",
   "nbconvert_exporter": "python",
   "pygments_lexer": "ipython3",
   "version": "3.7.4"
  }
 },
 "nbformat": 4,
 "nbformat_minor": 4
}
